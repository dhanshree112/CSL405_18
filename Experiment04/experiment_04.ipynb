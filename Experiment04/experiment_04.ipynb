{
 "cells": [
  {
   "cell_type": "markdown",
   "id": "6b022bcc-c417-4ea3-bfc0-766592e29aef",
   "metadata": {},
   "source": [
    "### SE (AI&DS) - Dhanashree Gawai"
   ]
  },
  {
   "cell_type": "code",
   "execution_count": 2,
   "id": "e3071115-2f8f-44f1-b273-1ab33076bb6e",
   "metadata": {},
   "outputs": [
    {
     "name": "stdout",
     "output_type": "stream",
     "text": [
      "Contents of the current directory:\n",
      ".ipynb_checkpoints\n",
      "Aayush\n",
      "Archita\n",
      "Bhavya\n",
      "experiment_04.ipynb\n",
      "Nihaal\n",
      "Taanya\n"
     ]
    }
   ],
   "source": [
    "from pathlib import Path\n",
    "current_directory = Path('.')\n",
    "contents = [item for item in current_directory.iterdir()]\n",
    "print(\"Contents of the current directory:\")\n",
    "for item in contents:\n",
    "    print(item.name)"
   ]
  },
  {
   "cell_type": "code",
   "execution_count": null,
   "id": "e141dac4-bbfd-44ec-9ccb-20dd5816fb18",
   "metadata": {},
   "outputs": [],
   "source": []
  }
 ],
 "metadata": {
  "kernelspec": {
   "display_name": "Python 3 (ipykernel)",
   "language": "python",
   "name": "python3"
  },
  "language_info": {
   "codemirror_mode": {
    "name": "ipython",
    "version": 3
   },
   "file_extension": ".py",
   "mimetype": "text/x-python",
   "name": "python",
   "nbconvert_exporter": "python",
   "pygments_lexer": "ipython3",
   "version": "3.13.1"
  }
 },
 "nbformat": 4,
 "nbformat_minor": 5
}

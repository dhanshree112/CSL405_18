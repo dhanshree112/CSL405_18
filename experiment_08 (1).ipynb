{
 "cells": [
  {
   "cell_type": "markdown",
   "id": "9baa8cf9-ea2e-4c27-8afc-09209fb56656",
   "metadata": {
    "id": "9baa8cf9-ea2e-4c27-8afc-09209fb56656"
   },
   "source": [
    "### SE(AI&DS) - Dhanashree Gawai_18"
   ]
  },
  {
   "cell_type": "code",
   "execution_count": 1,
   "id": "cf5eef26-4196-43bb-9d34-4bc2d632167f",
   "metadata": {
    "id": "cf5eef26-4196-43bb-9d34-4bc2d632167f",
    "outputId": "c0d7ad6c-8363-4550-fa5f-97f04e859346"
   },
   "outputs": [
    {
     "name": "stdout",
     "output_type": "stream",
     "text": [
      "Thread 1 - Number: 1\n",
      "Thread 2 - Letter: A\n",
      "Thread 3 - Square of 1: 1\n",
      "Thread 1 - Number: 2\n",
      "Thread 2 - Letter: B\n",
      "Thread 3 - Square of 2: 4\n",
      "Thread 1 - Number: 3\n",
      "Thread 2 - Letter: C\n",
      "Thread 3 - Square of 3: 9\n",
      "Thread 1 - Number: 4Thread 2 - Letter: D\n",
      "Thread 3 - Square of 4: 16\n",
      "\n",
      "Thread 2 - Letter: E\n",
      "Thread 1 - Number: 5\n",
      "Thread 3 - Square of 5: 25\n",
      "All threads have finished executing.\n"
     ]
    }
   ],
   "source": [
    "import threading\n",
    "import time\n",
    "\n",
    "def print_numbers():\n",
    "    for i in range(1, 6):\n",
    "        print(f\"Thread 1 - Number: {i}\")\n",
    "        time.sleep(1)\n",
    "\n",
    "def print_letters():\n",
    "    for letter in 'ABCDE':\n",
    "        print(f\"Thread 2 - Letter: {letter}\")\n",
    "        time.sleep(1)\n",
    "\n",
    "def print_squares():\n",
    "    for i in range(1, 6):\n",
    "        print(f\"Thread 3 - Square of {i}: {i ** 2}\")\n",
    "        time.sleep(1)\n",
    "\n",
    "# Creating threads\n",
    "thread1 = threading.Thread(target=print_numbers)\n",
    "thread2 = threading.Thread(target=print_letters)\n",
    "thread3 = threading.Thread(target=print_squares)\n",
    "\n",
    "# Starting threads\n",
    "thread1.start()\n",
    "thread2.start()\n",
    "thread3.start()\n",
    "\n",
    "# Ensuring all threads complete\n",
    "thread1.join()\n",
    "thread2.join()\n",
    "thread3.join()\n",
    "\n",
    "print(\"All threads have finished executing.\")"
   ]
  },
  {
   "cell_type": "code",
   "execution_count": null,
   "id": "d86573c2-5c44-4d57-9b18-527a415b5255",
   "metadata": {
    "id": "d86573c2-5c44-4d57-9b18-527a415b5255"
   },
   "outputs": [],
   "source": []
  }
 ],
 "metadata": {
  "colab": {
   "provenance": []
  },
  "kernelspec": {
   "display_name": "Python 3 (ipykernel)",
   "language": "python",
   "name": "python3"
  },
  "language_info": {
   "codemirror_mode": {
    "name": "ipython",
    "version": 3
   },
   "file_extension": ".py",
   "mimetype": "text/x-python",
   "name": "python",
   "nbconvert_exporter": "python",
   "pygments_lexer": "ipython3",
   "version": "3.13.1"
  }
 },
 "nbformat": 4,
 "nbformat_minor": 5
}

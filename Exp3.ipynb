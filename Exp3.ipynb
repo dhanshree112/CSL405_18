{
  "nbformat": 4,
  "nbformat_minor": 0,
  "metadata": {
    "colab": {
      "provenance": []
    },
    "kernelspec": {
      "name": "python3",
      "display_name": "Python 3"
    },
    "language_info": {
      "name": "python"
    }
  },
  "cells": [
    {
      "cell_type": "code",
      "execution_count": 1,
      "metadata": {
        "colab": {
          "base_uri": "https://localhost:8080/"
        },
        "id": "mwFLfrsohmKL",
        "outputId": "303c9207-536a-411a-9d81-79fb5617482e"
      },
      "outputs": [
        {
          "output_type": "stream",
          "name": "stdout",
          "text": [
            "Lines: 2\n",
            "Words: 10\n",
            "Characters: sum (len (line) for line in lines)\n"
          ]
        }
      ],
      "source": [
        " with open ('file.txt','w')as file:\n",
        "   file.write('this is a new file \\n')\n",
        "with open ('file.txt','a')as file:\n",
        "  file.write('this is experiment number 3')\n",
        "if __name__ == '__main__':\n",
        "    with open ('./file.txt', 'r') as file:\n",
        "        lines = file.readlines ()\n",
        "        numberOfLines = len (lines)\n",
        "        numberOfWords = sum (len (line.split()) for line in lines)\n",
        "\n",
        "        # Write numberOfCharacters over here.\n",
        "        numberOfCharacters = 'sum (len (line) for line in lines)'\n",
        "\n",
        "    print(f\"Lines: {numberOfLines}\")\n",
        "    print(f\"Words: {numberOfWords}\")\n",
        "    print(f\"Characters: {numberOfCharacters}\")"
      ]
    },
    {
      "cell_type": "code",
      "source": [],
      "metadata": {
        "id": "IL88-iMSkbow"
      },
      "execution_count": 1,
      "outputs": []
    }
  ]
}
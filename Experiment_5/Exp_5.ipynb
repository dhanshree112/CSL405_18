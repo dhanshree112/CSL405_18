{
  "nbformat": 4,
  "nbformat_minor": 0,
  "metadata": {
    "colab": {
      "provenance": []
    },
    "kernelspec": {
      "name": "python3",
      "display_name": "Python 3"
    },
    "language_info": {
      "name": "python"
    }
  },
  "cells": [
    {
      "cell_type": "code",
      "execution_count": 13,
      "metadata": {
        "id": "WSLsLCcMZzjS",
        "colab": {
          "base_uri": "https://localhost:8080/"
        },
        "outputId": "6f5c85a2-7df0-4ba4-f959-b0212d0dcf76"
      },
      "outputs": [
        {
          "output_type": "stream",
          "name": "stdout",
          "text": [
            "Enter a valid parentheses string: (1+(2*3)+((8)/4))+1\n",
            "The maximum nesting depth is: 3\n"
          ]
        }
      ],
      "source": [
        "class StackDepth:\n",
        "    def maximumDepth(self, stringInput: str) -> int:\n",
        "        current_depth = 0\n",
        "        max_depth = 0\n",
        "\n",
        "\n",
        "        for char in stringInput:\n",
        "            if char == '(':\n",
        "                current_depth += 1\n",
        "                max_depth = max(max_depth, current_depth)\n",
        "            elif char == ')':\n",
        "                current_depth -= 1\n",
        "\n",
        "        return max_depth\n",
        "\n",
        "\n",
        "\n",
        "stack_depth = StackDepth()\n",
        "\n",
        "\n",
        "user_input = input(\"Enter a valid parentheses string: \")\n",
        "\n",
        "\n",
        "result = stack_depth.maximumDepth(user_input)\n",
        "\n",
        "\n",
        "print(f\"The maximum nesting depth is: {result}\")\n"
      ]
    }
  ]
}